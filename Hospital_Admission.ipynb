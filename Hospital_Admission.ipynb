{
 "cells": [
  {
   "cell_type": "markdown",
   "id": "3c57357b",
   "metadata": {},
   "source": [
    "# Prioritising Hospital Admission according to emergency using machine Learning"
   ]
  },
  {
   "cell_type": "markdown",
   "id": "65d20766",
   "metadata": {},
   "source": [
    "# import statements"
   ]
  },
  {
   "cell_type": "code",
   "execution_count": 185,
   "id": "c9c967da",
   "metadata": {},
   "outputs": [],
   "source": [
    "import pandas as pd\n",
    "from matplotlib import pyplot as plt\n",
    "import seaborn as sns\n",
    "from sklearn.linear_model import LogisticRegression\n",
    "from sklearn.naive_bayes import GaussianNB\n",
    "from sklearn.tree import DecisionTreeClassifier\n",
    "from sklearn.ensemble import RandomForestClassifier\n",
    "from sklearn.neural_network import MLPClassifier\n",
    "from sklearn.svm import SVC\n",
    "from sklearn.model_selection import train_test_split\n",
    "from sklearn.metrics import accuracy_score\n",
    "from sklearn.preprocessing import LabelEncoder\n"
   ]
  },
  {
   "cell_type": "markdown",
   "id": "b9e85f62",
   "metadata": {},
   "source": [
    "# uploading dataset"
   ]
  },
  {
   "cell_type": "code",
   "execution_count": 186,
   "id": "31d75315",
   "metadata": {},
   "outputs": [],
   "source": [
    "data = pd.read_csv(\"EDAdmissionDataset.csv\")"
   ]
  },
  {
   "cell_type": "code",
   "execution_count": 187,
   "id": "6ede27d9",
   "metadata": {},
   "outputs": [
    {
     "data": {
      "text/html": [
       "<div>\n",
       "<style scoped>\n",
       "    .dataframe tbody tr th:only-of-type {\n",
       "        vertical-align: middle;\n",
       "    }\n",
       "\n",
       "    .dataframe tbody tr th {\n",
       "        vertical-align: top;\n",
       "    }\n",
       "\n",
       "    .dataframe thead th {\n",
       "        text-align: right;\n",
       "    }\n",
       "</style>\n",
       "<table border=\"1\" class=\"dataframe\">\n",
       "  <thead>\n",
       "    <tr style=\"text-align: right;\">\n",
       "      <th></th>\n",
       "      <th>hospital</th>\n",
       "      <th>sex</th>\n",
       "      <th>age</th>\n",
       "      <th>patient_num_hr</th>\n",
       "      <th>arrival_mode</th>\n",
       "      <th>injury</th>\n",
       "      <th>complaint</th>\n",
       "      <th>mental</th>\n",
       "      <th>pain</th>\n",
       "      <th>pain_scale</th>\n",
       "      <th>...</th>\n",
       "      <th>saturation</th>\n",
       "      <th>KTAS_RN</th>\n",
       "      <th>diagnosis</th>\n",
       "      <th>result</th>\n",
       "      <th>KTAS_expert</th>\n",
       "      <th>error_code</th>\n",
       "      <th>stay_min</th>\n",
       "      <th>KTAS_duration_min</th>\n",
       "      <th>mistriage</th>\n",
       "      <th>admissions</th>\n",
       "    </tr>\n",
       "  </thead>\n",
       "  <tbody>\n",
       "    <tr>\n",
       "      <th>0</th>\n",
       "      <td>1</td>\n",
       "      <td>1</td>\n",
       "      <td>71</td>\n",
       "      <td>3</td>\n",
       "      <td>car</td>\n",
       "      <td>1</td>\n",
       "      <td>right ocular pain</td>\n",
       "      <td>1</td>\n",
       "      <td>1</td>\n",
       "      <td>2</td>\n",
       "      <td>...</td>\n",
       "      <td>100.0</td>\n",
       "      <td>2</td>\n",
       "      <td>Corneal abrasion</td>\n",
       "      <td>discharge</td>\n",
       "      <td>4</td>\n",
       "      <td>physical_exam</td>\n",
       "      <td>86</td>\n",
       "      <td>5.00</td>\n",
       "      <td>1</td>\n",
       "      <td>0</td>\n",
       "    </tr>\n",
       "    <tr>\n",
       "      <th>1</th>\n",
       "      <td>0</td>\n",
       "      <td>0</td>\n",
       "      <td>56</td>\n",
       "      <td>12</td>\n",
       "      <td>car</td>\n",
       "      <td>1</td>\n",
       "      <td>right forearm burn</td>\n",
       "      <td>1</td>\n",
       "      <td>1</td>\n",
       "      <td>2</td>\n",
       "      <td>...</td>\n",
       "      <td>NaN</td>\n",
       "      <td>4</td>\n",
       "      <td>Burn of hand, firts degree dorsum</td>\n",
       "      <td>discharge</td>\n",
       "      <td>5</td>\n",
       "      <td>pain</td>\n",
       "      <td>64</td>\n",
       "      <td>3.95</td>\n",
       "      <td>1</td>\n",
       "      <td>0</td>\n",
       "    </tr>\n",
       "    <tr>\n",
       "      <th>2</th>\n",
       "      <td>1</td>\n",
       "      <td>0</td>\n",
       "      <td>68</td>\n",
       "      <td>8</td>\n",
       "      <td>ambulance</td>\n",
       "      <td>1</td>\n",
       "      <td>arm pain, Lt</td>\n",
       "      <td>1</td>\n",
       "      <td>1</td>\n",
       "      <td>2</td>\n",
       "      <td>...</td>\n",
       "      <td>98.0</td>\n",
       "      <td>4</td>\n",
       "      <td>Fracture of surgical neck of humerus, closed</td>\n",
       "      <td>ward</td>\n",
       "      <td>5</td>\n",
       "      <td>pain</td>\n",
       "      <td>862</td>\n",
       "      <td>1.00</td>\n",
       "      <td>1</td>\n",
       "      <td>1</td>\n",
       "    </tr>\n",
       "    <tr>\n",
       "      <th>3</th>\n",
       "      <td>0</td>\n",
       "      <td>1</td>\n",
       "      <td>71</td>\n",
       "      <td>8</td>\n",
       "      <td>walking</td>\n",
       "      <td>0</td>\n",
       "      <td>ascites tapping</td>\n",
       "      <td>1</td>\n",
       "      <td>1</td>\n",
       "      <td>3</td>\n",
       "      <td>...</td>\n",
       "      <td>NaN</td>\n",
       "      <td>4</td>\n",
       "      <td>Alcoholic liver cirrhosis with ascites</td>\n",
       "      <td>discharge</td>\n",
       "      <td>5</td>\n",
       "      <td>underlying</td>\n",
       "      <td>108</td>\n",
       "      <td>9.83</td>\n",
       "      <td>1</td>\n",
       "      <td>0</td>\n",
       "    </tr>\n",
       "    <tr>\n",
       "      <th>4</th>\n",
       "      <td>0</td>\n",
       "      <td>1</td>\n",
       "      <td>58</td>\n",
       "      <td>4</td>\n",
       "      <td>car</td>\n",
       "      <td>0</td>\n",
       "      <td>distension, abd</td>\n",
       "      <td>1</td>\n",
       "      <td>1</td>\n",
       "      <td>3</td>\n",
       "      <td>...</td>\n",
       "      <td>NaN</td>\n",
       "      <td>4</td>\n",
       "      <td>Ascites</td>\n",
       "      <td>discharge</td>\n",
       "      <td>5</td>\n",
       "      <td>on_set</td>\n",
       "      <td>109</td>\n",
       "      <td>6.60</td>\n",
       "      <td>1</td>\n",
       "      <td>0</td>\n",
       "    </tr>\n",
       "  </tbody>\n",
       "</table>\n",
       "<p>5 rows × 25 columns</p>\n",
       "</div>"
      ],
      "text/plain": [
       "   hospital  sex  age  patient_num_hr arrival_mode  injury  \\\n",
       "0         1    1   71               3          car       1   \n",
       "1         0    0   56              12          car       1   \n",
       "2         1    0   68               8    ambulance       1   \n",
       "3         0    1   71               8      walking       0   \n",
       "4         0    1   58               4          car       0   \n",
       "\n",
       "            complaint  mental  pain  pain_scale  ...  saturation  KTAS_RN  \\\n",
       "0   right ocular pain       1     1           2  ...       100.0        2   \n",
       "1  right forearm burn       1     1           2  ...         NaN        4   \n",
       "2        arm pain, Lt       1     1           2  ...        98.0        4   \n",
       "3     ascites tapping       1     1           3  ...         NaN        4   \n",
       "4     distension, abd       1     1           3  ...         NaN        4   \n",
       "\n",
       "                                      diagnosis     result  KTAS_expert  \\\n",
       "0                              Corneal abrasion  discharge            4   \n",
       "1             Burn of hand, firts degree dorsum  discharge            5   \n",
       "2  Fracture of surgical neck of humerus, closed       ward            5   \n",
       "3        Alcoholic liver cirrhosis with ascites  discharge            5   \n",
       "4                                       Ascites  discharge            5   \n",
       "\n",
       "      error_code  stay_min KTAS_duration_min mistriage  admissions  \n",
       "0  physical_exam        86              5.00         1           0  \n",
       "1           pain        64              3.95         1           0  \n",
       "2           pain       862              1.00         1           1  \n",
       "3     underlying       108              9.83         1           0  \n",
       "4         on_set       109              6.60         1           0  \n",
       "\n",
       "[5 rows x 25 columns]"
      ]
     },
     "execution_count": 187,
     "metadata": {},
     "output_type": "execute_result"
    }
   ],
   "source": [
    "data.head()"
   ]
  },
  {
   "cell_type": "code",
   "execution_count": 188,
   "id": "e4de0b87",
   "metadata": {},
   "outputs": [
    {
     "data": {
      "text/html": [
       "<div>\n",
       "<style scoped>\n",
       "    .dataframe tbody tr th:only-of-type {\n",
       "        vertical-align: middle;\n",
       "    }\n",
       "\n",
       "    .dataframe tbody tr th {\n",
       "        vertical-align: top;\n",
       "    }\n",
       "\n",
       "    .dataframe thead th {\n",
       "        text-align: right;\n",
       "    }\n",
       "</style>\n",
       "<table border=\"1\" class=\"dataframe\">\n",
       "  <thead>\n",
       "    <tr style=\"text-align: right;\">\n",
       "      <th></th>\n",
       "      <th>hospital</th>\n",
       "      <th>sex</th>\n",
       "      <th>age</th>\n",
       "      <th>patient_num_hr</th>\n",
       "      <th>arrival_mode</th>\n",
       "      <th>injury</th>\n",
       "      <th>complaint</th>\n",
       "      <th>mental</th>\n",
       "      <th>pain</th>\n",
       "      <th>pain_scale</th>\n",
       "      <th>...</th>\n",
       "      <th>saturation</th>\n",
       "      <th>KTAS_RN</th>\n",
       "      <th>diagnosis</th>\n",
       "      <th>result</th>\n",
       "      <th>KTAS_expert</th>\n",
       "      <th>error_code</th>\n",
       "      <th>stay_min</th>\n",
       "      <th>KTAS_duration_min</th>\n",
       "      <th>mistriage</th>\n",
       "      <th>admissions</th>\n",
       "    </tr>\n",
       "  </thead>\n",
       "  <tbody>\n",
       "    <tr>\n",
       "      <th>81083</th>\n",
       "      <td>1</td>\n",
       "      <td>1</td>\n",
       "      <td>79</td>\n",
       "      <td>5</td>\n",
       "      <td>ambulance</td>\n",
       "      <td>0</td>\n",
       "      <td>mental change</td>\n",
       "      <td>1</td>\n",
       "      <td>0</td>\n",
       "      <td>0</td>\n",
       "      <td>...</td>\n",
       "      <td>95.0</td>\n",
       "      <td>2</td>\n",
       "      <td>Cerebral infarction due to unspecified occlusi...</td>\n",
       "      <td>ward</td>\n",
       "      <td>2</td>\n",
       "      <td>no_error</td>\n",
       "      <td>1995</td>\n",
       "      <td>3.0</td>\n",
       "      <td>0</td>\n",
       "      <td>1</td>\n",
       "    </tr>\n",
       "    <tr>\n",
       "      <th>81084</th>\n",
       "      <td>1</td>\n",
       "      <td>1</td>\n",
       "      <td>81</td>\n",
       "      <td>2</td>\n",
       "      <td>car</td>\n",
       "      <td>0</td>\n",
       "      <td>dysuria</td>\n",
       "      <td>1</td>\n",
       "      <td>0</td>\n",
       "      <td>0</td>\n",
       "      <td>...</td>\n",
       "      <td>97.0</td>\n",
       "      <td>4</td>\n",
       "      <td>Dysuria</td>\n",
       "      <td>discharge</td>\n",
       "      <td>4</td>\n",
       "      <td>no_error</td>\n",
       "      <td>1000</td>\n",
       "      <td>2.0</td>\n",
       "      <td>0</td>\n",
       "      <td>0</td>\n",
       "    </tr>\n",
       "    <tr>\n",
       "      <th>81085</th>\n",
       "      <td>1</td>\n",
       "      <td>1</td>\n",
       "      <td>81</td>\n",
       "      <td>17</td>\n",
       "      <td>ambulance</td>\n",
       "      <td>0</td>\n",
       "      <td>dizziness</td>\n",
       "      <td>1</td>\n",
       "      <td>0</td>\n",
       "      <td>0</td>\n",
       "      <td>...</td>\n",
       "      <td>99.0</td>\n",
       "      <td>3</td>\n",
       "      <td>Dizziness and giddiness</td>\n",
       "      <td>discharge</td>\n",
       "      <td>3</td>\n",
       "      <td>no_error</td>\n",
       "      <td>310</td>\n",
       "      <td>4.0</td>\n",
       "      <td>0</td>\n",
       "      <td>0</td>\n",
       "    </tr>\n",
       "    <tr>\n",
       "      <th>81086</th>\n",
       "      <td>1</td>\n",
       "      <td>0</td>\n",
       "      <td>81</td>\n",
       "      <td>2</td>\n",
       "      <td>ambulance</td>\n",
       "      <td>1</td>\n",
       "      <td>Sensory, Decreased</td>\n",
       "      <td>1</td>\n",
       "      <td>0</td>\n",
       "      <td>0</td>\n",
       "      <td>...</td>\n",
       "      <td>98.0</td>\n",
       "      <td>3</td>\n",
       "      <td>Cord compression, unspecified</td>\n",
       "      <td>op</td>\n",
       "      <td>3</td>\n",
       "      <td>no_error</td>\n",
       "      <td>475</td>\n",
       "      <td>5.0</td>\n",
       "      <td>0</td>\n",
       "      <td>1</td>\n",
       "    </tr>\n",
       "    <tr>\n",
       "      <th>81087</th>\n",
       "      <td>1</td>\n",
       "      <td>1</td>\n",
       "      <td>87</td>\n",
       "      <td>8</td>\n",
       "      <td>private_ambulance</td>\n",
       "      <td>0</td>\n",
       "      <td>orthopnea</td>\n",
       "      <td>1</td>\n",
       "      <td>0</td>\n",
       "      <td>0</td>\n",
       "      <td>...</td>\n",
       "      <td>98.0</td>\n",
       "      <td>3</td>\n",
       "      <td>Dyspnoea</td>\n",
       "      <td>ward</td>\n",
       "      <td>3</td>\n",
       "      <td>no_error</td>\n",
       "      <td>887</td>\n",
       "      <td>2.0</td>\n",
       "      <td>0</td>\n",
       "      <td>1</td>\n",
       "    </tr>\n",
       "  </tbody>\n",
       "</table>\n",
       "<p>5 rows × 25 columns</p>\n",
       "</div>"
      ],
      "text/plain": [
       "       hospital  sex  age  patient_num_hr       arrival_mode  injury  \\\n",
       "81083         1    1   79               5          ambulance       0   \n",
       "81084         1    1   81               2                car       0   \n",
       "81085         1    1   81              17          ambulance       0   \n",
       "81086         1    0   81               2          ambulance       1   \n",
       "81087         1    1   87               8  private_ambulance       0   \n",
       "\n",
       "                complaint  mental  pain  pain_scale  ...  saturation  KTAS_RN  \\\n",
       "81083       mental change       1     0           0  ...        95.0        2   \n",
       "81084             dysuria       1     0           0  ...        97.0        4   \n",
       "81085           dizziness       1     0           0  ...        99.0        3   \n",
       "81086  Sensory, Decreased       1     0           0  ...        98.0        3   \n",
       "81087           orthopnea       1     0           0  ...        98.0        3   \n",
       "\n",
       "                                               diagnosis     result  \\\n",
       "81083  Cerebral infarction due to unspecified occlusi...       ward   \n",
       "81084                                            Dysuria  discharge   \n",
       "81085                            Dizziness and giddiness  discharge   \n",
       "81086                      Cord compression, unspecified         op   \n",
       "81087                                           Dyspnoea       ward   \n",
       "\n",
       "       KTAS_expert  error_code  stay_min KTAS_duration_min mistriage  \\\n",
       "81083            2    no_error      1995               3.0         0   \n",
       "81084            4    no_error      1000               2.0         0   \n",
       "81085            3    no_error       310               4.0         0   \n",
       "81086            3    no_error       475               5.0         0   \n",
       "81087            3    no_error       887               2.0         0   \n",
       "\n",
       "       admissions  \n",
       "81083           1  \n",
       "81084           0  \n",
       "81085           0  \n",
       "81086           1  \n",
       "81087           1  \n",
       "\n",
       "[5 rows x 25 columns]"
      ]
     },
     "execution_count": 188,
     "metadata": {},
     "output_type": "execute_result"
    }
   ],
   "source": [
    "data.tail()"
   ]
  },
  {
   "cell_type": "markdown",
   "id": "0d8b1a0b",
   "metadata": {},
   "source": [
    "# Information about dataset"
   ]
  },
  {
   "cell_type": "code",
   "execution_count": 189,
   "id": "9d14dc2b",
   "metadata": {},
   "outputs": [
    {
     "data": {
      "text/plain": [
       "(81088, 25)"
      ]
     },
     "execution_count": 189,
     "metadata": {},
     "output_type": "execute_result"
    }
   ],
   "source": [
    "# check the shape of the data set\n",
    "data.shape"
   ]
  },
  {
   "cell_type": "code",
   "execution_count": 190,
   "id": "c52a9a41",
   "metadata": {},
   "outputs": [
    {
     "data": {
      "text/plain": [
       "Index(['hospital', 'sex', 'age', 'patient_num_hr', 'arrival_mode', 'injury',\n",
       "       'complaint', 'mental', 'pain', 'pain_scale', 'SBP', 'DBP', 'HR', 'RR',\n",
       "       'BT', 'saturation', 'KTAS_RN', 'diagnosis', 'result', 'KTAS_expert',\n",
       "       'error_code', 'stay_min', 'KTAS_duration_min', 'mistriage',\n",
       "       'admissions'],\n",
       "      dtype='object')"
      ]
     },
     "execution_count": 190,
     "metadata": {},
     "output_type": "execute_result"
    }
   ],
   "source": [
    "# show the what are the column thare in this data set\n",
    "data.columns"
   ]
  },
  {
   "cell_type": "code",
   "execution_count": 191,
   "id": "35c77fc8",
   "metadata": {},
   "outputs": [
    {
     "name": "stdout",
     "output_type": "stream",
     "text": [
      "<class 'pandas.core.frame.DataFrame'>\n",
      "RangeIndex: 81088 entries, 0 to 81087\n",
      "Data columns (total 25 columns):\n",
      " #   Column             Non-Null Count  Dtype  \n",
      "---  ------             --------------  -----  \n",
      " 0   hospital           81088 non-null  int64  \n",
      " 1   sex                81088 non-null  int64  \n",
      " 2   age                81088 non-null  int64  \n",
      " 3   patient_num_hr     81088 non-null  int64  \n",
      " 4   arrival_mode       81088 non-null  object \n",
      " 5   injury             81088 non-null  int64  \n",
      " 6   complaint          81088 non-null  object \n",
      " 7   mental             81088 non-null  int64  \n",
      " 8   pain               81088 non-null  int64  \n",
      " 9   pain_scale         81088 non-null  int64  \n",
      " 10  SBP                81088 non-null  int64  \n",
      " 11  DBP                81088 non-null  int64  \n",
      " 12  HR                 81088 non-null  int64  \n",
      " 13  RR                 81088 non-null  int64  \n",
      " 14  BT                 81088 non-null  float64\n",
      " 15  saturation         37056 non-null  float64\n",
      " 16  KTAS_RN            81088 non-null  int64  \n",
      " 17  diagnosis          80960 non-null  object \n",
      " 18  result             81088 non-null  object \n",
      " 19  KTAS_expert        81088 non-null  int64  \n",
      " 20  error_code         81088 non-null  object \n",
      " 21  stay_min           81088 non-null  int64  \n",
      " 22  KTAS_duration_min  81088 non-null  float64\n",
      " 23  mistriage          81088 non-null  int64  \n",
      " 24  admissions         81088 non-null  int64  \n",
      "dtypes: float64(3), int64(17), object(5)\n",
      "memory usage: 15.5+ MB\n"
     ]
    }
   ],
   "source": [
    "# check the information about column\n",
    "data.info()"
   ]
  },
  {
   "cell_type": "code",
   "execution_count": 192,
   "id": "46ceaf59",
   "metadata": {},
   "outputs": [
    {
     "data": {
      "text/plain": [
       "hospital                 0\n",
       "sex                      0\n",
       "age                      0\n",
       "patient_num_hr           0\n",
       "arrival_mode             0\n",
       "injury                   0\n",
       "complaint                0\n",
       "mental                   0\n",
       "pain                     0\n",
       "pain_scale               0\n",
       "SBP                      0\n",
       "DBP                      0\n",
       "HR                       0\n",
       "RR                       0\n",
       "BT                       0\n",
       "saturation           44032\n",
       "KTAS_RN                  0\n",
       "diagnosis              128\n",
       "result                   0\n",
       "KTAS_expert              0\n",
       "error_code               0\n",
       "stay_min                 0\n",
       "KTAS_duration_min        0\n",
       "mistriage                0\n",
       "admissions               0\n",
       "dtype: int64"
      ]
     },
     "execution_count": 192,
     "metadata": {},
     "output_type": "execute_result"
    }
   ],
   "source": [
    "# check the null value\n",
    "data.isnull().sum()"
   ]
  },
  {
   "cell_type": "code",
   "execution_count": 193,
   "id": "acc4d296",
   "metadata": {},
   "outputs": [
    {
     "data": {
      "text/plain": [
       "0        False\n",
       "1        False\n",
       "2        False\n",
       "3        False\n",
       "4        False\n",
       "         ...  \n",
       "81083     True\n",
       "81084     True\n",
       "81085     True\n",
       "81086     True\n",
       "81087     True\n",
       "Length: 81088, dtype: bool"
      ]
     },
     "execution_count": 193,
     "metadata": {},
     "output_type": "execute_result"
    }
   ],
   "source": [
    "# check the duplicate value\n",
    "data.duplicated()"
   ]
  },
  {
   "cell_type": "code",
   "execution_count": 194,
   "id": "27f9c3c1",
   "metadata": {},
   "outputs": [
    {
     "data": {
      "text/plain": [
       "0    53248\n",
       "1    27840\n",
       "Name: admissions, dtype: int64"
      ]
     },
     "execution_count": 194,
     "metadata": {},
     "output_type": "execute_result"
    }
   ],
   "source": [
    "# check the values of target column\n",
    "data['admissions'].value_counts()"
   ]
  },
  {
   "cell_type": "markdown",
   "id": "917367fa",
   "metadata": {},
   "source": [
    "# EDA"
   ]
  },
  {
   "cell_type": "code",
   "execution_count": 195,
   "id": "c70c10d1",
   "metadata": {},
   "outputs": [
    {
     "data": {
      "text/plain": [
       "<Axes: ylabel='count'>"
      ]
     },
     "execution_count": 195,
     "metadata": {},
     "output_type": "execute_result"
    },
    {
     "data": {
      "image/png": "[encoded data removed]",
      "text/plain": [
       "<Figure size 640x480 with 1 Axes>"
      ]
     },
     "metadata": {},
     "output_type": "display_data"
    }
   ],
   "source": [
    "sns.countplot(data['admissions'])"
   ]
  },
  {
   "cell_type": "code",
   "execution_count": 196,
   "id": "fa4212a0",
   "metadata": {},
   "outputs": [
    {
     "data": {
      "text/plain": [
       "<Axes: xlabel='admissions', ylabel='Count'>"
      ]
     },
     "execution_count": 196,
     "metadata": {},
     "output_type": "execute_result"
    },
    {
     "data": {
      "image/png": "[encoded data removed]",
      "text/plain": [
       "<Figure size 640x480 with 1 Axes>"
      ]
     },
     "metadata": {},
     "output_type": "display_data"
    }
   ],
   "source": [
    "sns.histplot(data[\"admissions\"])"
   ]
  },
  {
   "cell_type": "code",
   "execution_count": 197,
   "id": "089d9edc",
   "metadata": {},
   "outputs": [
    {
     "data": {
      "text/plain": [
       "<Axes: ylabel='count'>"
      ]
     },
     "execution_count": 197,
     "metadata": {},
     "output_type": "execute_result"
    },
    {
     "data": {
      "image/png": "[encoded data removed]",
      "text/plain": [
       "<Figure size 640x480 with 1 Axes>"
      ]
     },
     "metadata": {},
     "output_type": "display_data"
    }
   ],
   "source": [
    "sns.countplot(data['admissions'])"
   ]
  },
  {
   "cell_type": "code",
   "execution_count": 198,
   "id": "774d7077",
   "metadata": {},
   "outputs": [
    {
     "data": {
      "text/plain": [
       "<Axes: xlabel='age', ylabel='Count'>"
      ]
     },
     "execution_count": 198,
     "metadata": {},
     "output_type": "execute_result"
    },
    {
     "data": {
      "image/png": "[encoded data removed]",
      "text/plain": [
       "<Figure size 640x480 with 1 Axes>"
      ]
     },
     "metadata": {},
     "output_type": "display_data"
    }
   ],
   "source": [
    "sns.histplot(data[\"age\"])"
   ]
  },
  {
   "cell_type": "code",
   "execution_count": 199,
   "id": "ba233abd",
   "metadata": {},
   "outputs": [
    {
     "data": {
      "text/plain": [
       "<Axes: xlabel='sex', ylabel='Count'>"
      ]
     },
     "execution_count": 199,
     "metadata": {},
     "output_type": "execute_result"
    },
    {
     "data": {
      "image/png": "[encoded data removed]",
      "text/plain": [
       "<Figure size 640x480 with 1 Axes>"
      ]
     },
     "metadata": {},
     "output_type": "display_data"
    }
   ],
   "source": [
    "sns.histplot(data[\"sex\"])"
   ]
  },
  {
   "cell_type": "code",
   "execution_count": 200,
   "id": "f0c682fb",
   "metadata": {},
   "outputs": [
    {
     "data": {
      "image/png": "[encoded data removed]",
      "text/plain": [
       "<Figure size 600x800 with 1 Axes>"
      ]
     },
     "metadata": {},
     "output_type": "display_data"
    }
   ],
   "source": [
    "data['admissions'].value_counts().plot.pie(explode=[0.04,0.04], autopct='%1.1f%%',  startangle=90,shadow=True, figsize=(6,8))\n",
    "plt.title('Pie Chart for result')\n",
    "plt.show()"
   ]
  },
  {
   "cell_type": "markdown",
   "id": "7ac17a8f",
   "metadata": {},
   "source": [
    "# Preprocessing"
   ]
  },
  {
   "cell_type": "code",
   "execution_count": 201,
   "id": "ff761148",
   "metadata": {},
   "outputs": [
    {
     "data": {
      "text/plain": [
       "44160"
      ]
     },
     "execution_count": 201,
     "metadata": {},
     "output_type": "execute_result"
    }
   ],
   "source": [
    "data.isnull().sum().sum()"
   ]
  },
  {
   "cell_type": "code",
   "execution_count": 202,
   "id": "b0b1a9fd",
   "metadata": {},
   "outputs": [],
   "source": [
    "# apply the type costing\n",
    "data['arrival_mode'] = data['arrival_mode'].astype('str')\n",
    "data['complaint'] = data['complaint'].astype('str')   \n",
    "data['diagnosis'] = data['diagnosis'].astype('str')\n",
    "data['result'] = data['result'].astype('str')\n",
    "data['error_code'] = data['error_code'].astype('str')"
   ]
  },
  {
   "cell_type": "code",
   "execution_count": 203,
   "id": "ab8643c6",
   "metadata": {},
   "outputs": [],
   "source": [
    "le = LabelEncoder()"
   ]
  },
  {
   "cell_type": "code",
   "execution_count": 204,
   "id": "14634132",
   "metadata": {},
   "outputs": [],
   "source": [
    "# Apply The Label Encoding\n",
    "data['arrival_mode'] = pd.Series(le.fit_transform(data['arrival_mode']))\n",
    "data['complaint'] = pd.Series(le.fit_transform(data['complaint']))\n",
    "data['diagnosis'] = pd.Series(le.fit_transform(data['diagnosis']))\n",
    "data['result'] = pd.Series(le.fit_transform(data['result']))\n",
    "data['error_code'] = pd.Series(le.fit_transform(data['error_code']))\n"
   ]
  },
  {
   "cell_type": "code",
   "execution_count": 205,
   "id": "fcda85d4",
   "metadata": {},
   "outputs": [],
   "source": [
    "data['saturation'] = data['saturation'].fillna(data['saturation'].mean())"
   ]
  },
  {
   "cell_type": "code",
   "execution_count": 206,
   "id": "c9ddbc79",
   "metadata": {},
   "outputs": [
    {
     "data": {
      "text/plain": [
       "0"
      ]
     },
     "execution_count": 206,
     "metadata": {},
     "output_type": "execute_result"
    }
   ],
   "source": [
    "data.isnull().sum().sum()"
   ]
  },
  {
   "cell_type": "code",
   "execution_count": 207,
   "id": "6135de77",
   "metadata": {},
   "outputs": [
    {
     "name": "stdout",
     "output_type": "stream",
     "text": [
      "<class 'pandas.core.frame.DataFrame'>\n",
      "RangeIndex: 81088 entries, 0 to 81087\n",
      "Data columns (total 25 columns):\n",
      " #   Column             Non-Null Count  Dtype  \n",
      "---  ------             --------------  -----  \n",
      " 0   hospital           81088 non-null  int64  \n",
      " 1   sex                81088 non-null  int64  \n",
      " 2   age                81088 non-null  int64  \n",
      " 3   patient_num_hr     81088 non-null  int64  \n",
      " 4   arrival_mode       81088 non-null  int32  \n",
      " 5   injury             81088 non-null  int64  \n",
      " 6   complaint          81088 non-null  int32  \n",
      " 7   mental             81088 non-null  int64  \n",
      " 8   pain               81088 non-null  int64  \n",
      " 9   pain_scale         81088 non-null  int64  \n",
      " 10  SBP                81088 non-null  int64  \n",
      " 11  DBP                81088 non-null  int64  \n",
      " 12  HR                 81088 non-null  int64  \n",
      " 13  RR                 81088 non-null  int64  \n",
      " 14  BT                 81088 non-null  float64\n",
      " 15  saturation         81088 non-null  float64\n",
      " 16  KTAS_RN            81088 non-null  int64  \n",
      " 17  diagnosis          81088 non-null  int32  \n",
      " 18  result             81088 non-null  int32  \n",
      " 19  KTAS_expert        81088 non-null  int64  \n",
      " 20  error_code         81088 non-null  int32  \n",
      " 21  stay_min           81088 non-null  int64  \n",
      " 22  KTAS_duration_min  81088 non-null  float64\n",
      " 23  mistriage          81088 non-null  int64  \n",
      " 24  admissions         81088 non-null  int64  \n",
      "dtypes: float64(3), int32(5), int64(17)\n",
      "memory usage: 13.9 MB\n"
     ]
    }
   ],
   "source": [
    "data.info()"
   ]
  },
  {
   "cell_type": "markdown",
   "id": "588d6045",
   "metadata": {},
   "source": [
    "# Split the data"
   ]
  },
  {
   "cell_type": "code",
   "execution_count": 208,
   "id": "c73b742f",
   "metadata": {},
   "outputs": [],
   "source": [
    "x = data.drop(\"admissions\", axis=1)\n",
    "y = data[\"admissions\"]"
   ]
  },
  {
   "cell_type": "code",
   "execution_count": 209,
   "id": "89259778",
   "metadata": {},
   "outputs": [
    {
     "data": {
      "text/plain": [
       "(81088, 24)"
      ]
     },
     "execution_count": 209,
     "metadata": {},
     "output_type": "execute_result"
    }
   ],
   "source": [
    "x.shape"
   ]
  },
  {
   "cell_type": "code",
   "execution_count": 210,
   "id": "633f8dd4",
   "metadata": {},
   "outputs": [
    {
     "data": {
      "text/plain": [
       "(81088,)"
      ]
     },
     "execution_count": 210,
     "metadata": {},
     "output_type": "execute_result"
    }
   ],
   "source": [
    "y.shape"
   ]
  },
  {
   "cell_type": "code",
   "execution_count": 211,
   "id": "0db9f0cc",
   "metadata": {},
   "outputs": [],
   "source": [
    "x_train,x_test,y_train,y_test = train_test_split(x,y,test_size=0.3,random_state=72)"
   ]
  },
  {
   "cell_type": "code",
   "execution_count": 212,
   "id": "98d69bb1",
   "metadata": {},
   "outputs": [
    {
     "data": {
      "text/plain": [
       "(56761, 24)"
      ]
     },
     "execution_count": 212,
     "metadata": {},
     "output_type": "execute_result"
    }
   ],
   "source": [
    "x_train.shape"
   ]
  },
  {
   "cell_type": "code",
   "execution_count": 213,
   "id": "800d9cee",
   "metadata": {},
   "outputs": [
    {
     "data": {
      "text/plain": [
       "(24327, 24)"
      ]
     },
     "execution_count": 213,
     "metadata": {},
     "output_type": "execute_result"
    }
   ],
   "source": [
    "x_test.shape"
   ]
  },
  {
   "cell_type": "code",
   "execution_count": 214,
   "id": "f62252ae",
   "metadata": {},
   "outputs": [
    {
     "data": {
      "text/plain": [
       "(56761,)"
      ]
     },
     "execution_count": 214,
     "metadata": {},
     "output_type": "execute_result"
    }
   ],
   "source": [
    "y_train.shape"
   ]
  },
  {
   "cell_type": "code",
   "execution_count": 215,
   "id": "ecce3b25",
   "metadata": {},
   "outputs": [
    {
     "data": {
      "text/plain": [
       "(24327,)"
      ]
     },
     "execution_count": 215,
     "metadata": {},
     "output_type": "execute_result"
    }
   ],
   "source": [
    "y_test.shape"
   ]
  },
  {
   "cell_type": "markdown",
   "id": "7ef8d1b3",
   "metadata": {},
   "source": [
    "# Apply algorithms"
   ]
  },
  {
   "cell_type": "markdown",
   "id": "6fa2bd7f",
   "metadata": {},
   "source": [
    "# LogisticRegression"
   ]
  },
  {
   "cell_type": "code",
   "execution_count": 216,
   "id": "bff2b105",
   "metadata": {},
   "outputs": [
    {
     "name": "stdout",
     "output_type": "stream",
     "text": [
      "accuracy_score of LogisticRegression is: 0.726764500349406\n"
     ]
    },
    {
     "name": "stderr",
     "output_type": "stream",
     "text": [
      "C:\\Users\\nikhitha\\anaconda3\\lib\\site-packages\\sklearn\\linear_model\\_logistic.py:458: ConvergenceWarning: lbfgs failed to converge (status=1):\n",
      "STOP: TOTAL NO. of ITERATIONS REACHED LIMIT.\n",
      "\n",
      "Increase the number of iterations (max_iter) or scale the data as shown in:\n",
      "    https://scikit-learn.org/stable/modules/preprocessing.html\n",
      "Please also refer to the documentation for alternative solver options:\n",
      "    https://scikit-learn.org/stable/modules/linear_model.html#logistic-regression\n",
      "  n_iter_i = _check_optimize_result(\n"
     ]
    }
   ],
   "source": [
    "ln = LogisticRegression()\n",
    "ln.fit(x_train,y_train)\n",
    "l_pred = ln.predict(x_test)\n",
    "l_ac = accuracy_score(l_pred, y_test)\n",
    "print(\"accuracy_score of LogisticRegression is\"+\": \"+str(l_ac))"
   ]
  },
  {
   "cell_type": "markdown",
   "id": "1b3aa6d8",
   "metadata": {},
   "source": [
    "# NaiveBayes"
   ]
  },
  {
   "cell_type": "code",
   "execution_count": 217,
   "id": "f2c7455c",
   "metadata": {},
   "outputs": [
    {
     "name": "stdout",
     "output_type": "stream",
     "text": [
      "accuracy_score of Naive Bias is: 0.8954659431906935\n"
     ]
    }
   ],
   "source": [
    "nb = GaussianNB()\n",
    "nb.fit(x_train,y_train)\n",
    "nb_pred = nb.predict(x_test)\n",
    "nb_ac = accuracy_score(y_test,nb_pred)\n",
    "print(\"accuracy_score of Naive Bias is\"+\": \"+str(nb_ac))"
   ]
  },
  {
   "cell_type": "markdown",
   "id": "b88ab34d",
   "metadata": {},
   "source": [
    "# RandomForest"
   ]
  },
  {
   "cell_type": "code",
   "execution_count": 218,
   "id": "2ed03942",
   "metadata": {},
   "outputs": [
    {
     "name": "stdout",
     "output_type": "stream",
     "text": [
      "accuracy_score of RandomForestClassifier is: 0.6572943642865952\n"
     ]
    }
   ],
   "source": [
    "rn = RandomForestClassifier(ccp_alpha=0.2)\n",
    "rn.fit(x_train,y_train)\n",
    "rn_pred = rn.predict(x_test)\n",
    "rn_ac = accuracy_score(y_test,rn_pred)\n",
    "print(\"accuracy_score of RandomForestClassifier is\"+\": \"+str(rn_ac))"
   ]
  },
  {
   "cell_type": "markdown",
   "id": "8a000d44",
   "metadata": {},
   "source": [
    "# MultiLayer Perceptron"
   ]
  },
  {
   "cell_type": "code",
   "execution_count": 219,
   "id": "110babd0",
   "metadata": {},
   "outputs": [
    {
     "name": "stdout",
     "output_type": "stream",
     "text": [
      "accuracy_score of MLPClassifier is: 0.9799810909688823\n"
     ]
    }
   ],
   "source": [
    "ml = MLPClassifier()\n",
    "ml.fit(x_train,y_train)\n",
    "ml_pred = ml.predict(x_test)\n",
    "ml_ac = accuracy_score(y_test,ml_pred)\n",
    "print(\"accuracy_score of MLPClassifier is\"+\": \"+str(ml_ac))"
   ]
  },
  {
   "cell_type": "markdown",
   "id": "1e021a00",
   "metadata": {},
   "source": [
    "# Support Vector Machine"
   ]
  },
  {
   "cell_type": "code",
   "execution_count": 220,
   "id": "f82e4a36",
   "metadata": {},
   "outputs": [
    {
     "name": "stdout",
     "output_type": "stream",
     "text": [
      "accuracy_score of Support Vectore Machine is: 0.62\n"
     ]
    }
   ],
   "source": [
    "sv = SVC()\n",
    "sv.fit(x_train[:100],y_train[:100])\n",
    "sv_pred = sv.predict(x_test[:100])\n",
    "sv_ac = accuracy_score(y_test[:100],sv_pred)\n",
    "print(\"accuracy_score of Support Vectore Machine is\"+\": \"+str(sv_ac))"
   ]
  },
  {
   "cell_type": "markdown",
   "id": "06a51321",
   "metadata": {},
   "source": [
    "# DataFrame of Accuracy "
   ]
  },
  {
   "cell_type": "code",
   "execution_count": 221,
   "id": "a3b46649",
   "metadata": {},
   "outputs": [],
   "source": [
    "graph = pd.DataFrame({'Modules':['Logistic Regration','Naive Bias','RandomForest','MLP','SVC'],\n",
    "                    'Accuracy':[l_ac*100, nb_ac*100, rn_ac*100,ml_ac*100,sv_ac*100]})"
   ]
  },
  {
   "cell_type": "code",
   "execution_count": 222,
   "id": "e4aa4024",
   "metadata": {},
   "outputs": [
    {
     "data": {
      "text/html": [
       "<div>\n",
       "<style scoped>\n",
       "    .dataframe tbody tr th:only-of-type {\n",
       "        vertical-align: middle;\n",
       "    }\n",
       "\n",
       "    .dataframe tbody tr th {\n",
       "        vertical-align: top;\n",
       "    }\n",
       "\n",
       "    .dataframe thead th {\n",
       "        text-align: right;\n",
       "    }\n",
       "</style>\n",
       "<table border=\"1\" class=\"dataframe\">\n",
       "  <thead>\n",
       "    <tr style=\"text-align: right;\">\n",
       "      <th></th>\n",
       "      <th>Modules</th>\n",
       "      <th>Accuracy</th>\n",
       "    </tr>\n",
       "  </thead>\n",
       "  <tbody>\n",
       "    <tr>\n",
       "      <th>0</th>\n",
       "      <td>Logistic Regration</td>\n",
       "      <td>72.676450</td>\n",
       "    </tr>\n",
       "    <tr>\n",
       "      <th>1</th>\n",
       "      <td>Naive Bias</td>\n",
       "      <td>89.546594</td>\n",
       "    </tr>\n",
       "    <tr>\n",
       "      <th>2</th>\n",
       "      <td>RandomForest</td>\n",
       "      <td>65.729436</td>\n",
       "    </tr>\n",
       "    <tr>\n",
       "      <th>3</th>\n",
       "      <td>MLP</td>\n",
       "      <td>97.998109</td>\n",
       "    </tr>\n",
       "    <tr>\n",
       "      <th>4</th>\n",
       "      <td>SVC</td>\n",
       "      <td>62.000000</td>\n",
       "    </tr>\n",
       "  </tbody>\n",
       "</table>\n",
       "</div>"
      ],
      "text/plain": [
       "              Modules   Accuracy\n",
       "0  Logistic Regration  72.676450\n",
       "1          Naive Bias  89.546594\n",
       "2        RandomForest  65.729436\n",
       "3                 MLP  97.998109\n",
       "4                 SVC  62.000000"
      ]
     },
     "execution_count": 222,
     "metadata": {},
     "output_type": "execute_result"
    }
   ],
   "source": [
    "graph"
   ]
  },
  {
   "cell_type": "markdown",
   "id": "eb75db12",
   "metadata": {},
   "source": [
    "# Graph of Accuracy "
   ]
  },
  {
   "cell_type": "code",
   "execution_count": 223,
   "id": "4e384a96",
   "metadata": {},
   "outputs": [
    {
     "data": {
      "image/png": "[encoded data removed]",
      "text/plain": [
       "<Figure size 700x600 with 1 Axes>"
      ]
     },
     "metadata": {},
     "output_type": "display_data"
    }
   ],
   "source": [
    "plt.figure(figsize=(7,6))\n",
    "sns.barplot(y=graph.Accuracy,x=graph.Modules)\n",
    "plt.xticks(rotation='vertical')\n",
    "plt.show()"
   ]
  },
  {
   "cell_type": "markdown",
   "id": "1ce0c1ee",
   "metadata": {},
   "source": [
    "# Prediction"
   ]
  },
  {
   "cell_type": "code",
   "execution_count": 224,
   "id": "7fc2f7b8",
   "metadata": {},
   "outputs": [
    {
     "data": {
      "text/plain": [
       "(56761, 24)"
      ]
     },
     "execution_count": 224,
     "metadata": {},
     "output_type": "execute_result"
    }
   ],
   "source": [
    "x_train.shape"
   ]
  },
  {
   "cell_type": "code",
   "execution_count": 225,
   "id": "ebc5fcd1",
   "metadata": {},
   "outputs": [],
   "source": [
    "input = [[1,2,3,4,5,6,7,8,9,10,11,12,13,14,15,16,17,18,19,20,21,22,23,24]]"
   ]
  },
  {
   "cell_type": "code",
   "execution_count": 226,
   "id": "66817788",
   "metadata": {},
   "outputs": [
    {
     "name": "stderr",
     "output_type": "stream",
     "text": [
      "C:\\Users\\nikhitha\\anaconda3\\lib\\site-packages\\sklearn\\base.py:420: UserWarning: X does not have valid feature names, but MLPClassifier was fitted with feature names\n",
      "  warnings.warn(\n"
     ]
    },
    {
     "data": {
      "text/plain": [
       "array([1], dtype=int64)"
      ]
     },
     "execution_count": 226,
     "metadata": {},
     "output_type": "execute_result"
    }
   ],
   "source": [
    "cb_out = ml.predict(input)\n",
    "cb_out"
   ]
  },
  {
   "cell_type": "code",
   "execution_count": 227,
   "id": "7a2ad5ef",
   "metadata": {},
   "outputs": [
    {
     "name": "stdout",
     "output_type": "stream",
     "text": [
      "its emergency case\n"
     ]
    }
   ],
   "source": [
    "if cb_out == 0:\n",
    "    print(\"its not emergency case\")\n",
    "else:\n",
    "    print(\"its emergency case\")"
   ]
  },
  {
   "cell_type": "code",
   "execution_count": 228,
   "id": "507a98e4",
   "metadata": {},
   "outputs": [],
   "source": [
    "input1 = [[49,14,0,0,0,1,0,0,9,10,11,12,13,14,15,16,17,18,19,256,23,287,26,24]]"
   ]
  },
  {
   "cell_type": "code",
   "execution_count": 229,
   "id": "70deb129",
   "metadata": {},
   "outputs": [
    {
     "name": "stderr",
     "output_type": "stream",
     "text": [
      "C:\\Users\\nikhitha\\anaconda3\\lib\\site-packages\\sklearn\\base.py:420: UserWarning: X does not have valid feature names, but MLPClassifier was fitted with feature names\n",
      "  warnings.warn(\n"
     ]
    },
    {
     "data": {
      "text/plain": [
       "array([0], dtype=int64)"
      ]
     },
     "execution_count": 229,
     "metadata": {},
     "output_type": "execute_result"
    }
   ],
   "source": [
    "cb_out = ml.predict(input1)\n",
    "cb_out"
   ]
  },
  {
   "cell_type": "code",
   "execution_count": 230,
   "id": "9f34bd07",
   "metadata": {},
   "outputs": [
    {
     "name": "stdout",
     "output_type": "stream",
     "text": [
      "its not emergency case\n"
     ]
    }
   ],
   "source": [
    "if cb_out == 0:\n",
    "    print(\"its not emergency case\")\n",
    "else:\n",
    "    print(\"its emergency case\")"
   ]
  }
 ],
 "metadata": {
  "kernelspec": {
   "display_name": "Python 3 (ipykernel)",
   "language": "python",
   "name": "python3"
  },
  "language_info": {
   "codemirror_mode": {
    "name": "ipython",
    "version": 3
   },
   "file_extension": ".py",
   "mimetype": "text/x-python",
   "name": "python",
   "nbconvert_exporter": "python",
   "pygments_lexer": "ipython3",
   "version": "3.10.9"
  }
 },
 "nbformat": 4,
 "nbformat_minor": 5
}
